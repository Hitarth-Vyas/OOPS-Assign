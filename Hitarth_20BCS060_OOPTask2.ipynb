{
  "nbformat": 4,
  "nbformat_minor": 0,
  "metadata": {
    "colab": {
      "name": "Hitarth_20BCS060_OOPTask2.ipynb.ipynb",
      "provenance": [],
      "authorship_tag": "ABX9TyNJI8U8OR0e6qHiUFNyV4Va",
      "include_colab_link": true
    },
    "kernelspec": {
      "name": "python3",
      "display_name": "Python 3"
    },
    "language_info": {
      "name": "python"
    }
  },
  "cells": [
    {
      "cell_type": "markdown",
      "metadata": {
        "id": "view-in-github",
        "colab_type": "text"
      },
      "source": [
        "<a href=\"https://colab.research.google.com/github/Hitarth-Vyas/OOPs-Assign/blob/main/Hitarth_20BCS060_OOPTask2.ipynb\" target=\"_parent\"><img src=\"https://colab.research.google.com/assets/colab-badge.svg\" alt=\"Open In Colab\"/></a>"
      ]
    },
    {
      "cell_type": "code",
      "metadata": {
        "id": "Iiaz4id6kZ2T",
        "colab": {
          "base_uri": "https://localhost:8080/"
        },
        "outputId": "f122b435-4698-4d81-c9c7-db9d20692d8e"
      },
      "source": [
        "#1\n",
        "\n",
        "import math\n",
        "\n",
        "class Circle:\n",
        "  def __init__(self, rad):\n",
        "    self.rad = rad\n",
        "  def area(self):\n",
        "    return math.pi * self.rad * self.rad\n",
        "  def parameter(self):\n",
        "    return 2 * math.pi * self.rad\n",
        "\n",
        "circle = Circle(1)\n",
        "print(\"Area: \", circle.area())\n",
        "print(\"Parameter: \", circle.parameter())"
      ],
      "execution_count": null,
      "outputs": [
        {
          "output_type": "stream",
          "name": "stdout",
          "text": [
            "Area:  3.141592653589793\n",
            "Parameter:  6.283185307179586\n"
          ]
        }
      ]
    },
    {
      "cell_type": "code",
      "metadata": {
        "colab": {
          "base_uri": "https://localhost:8080/",
          "height": 0
        },
        "id": "0Nv5dBOwqEwR",
        "outputId": "53765144-b20c-4cfe-9a96-9f0cdedd8639"
      },
      "source": [
        "#2\n",
        "\n",
        "class Employee:\n",
        "  def __init__(self, name, id, branch, salary):\n",
        "    self.name = name\n",
        "    self.id = id\n",
        "    self.branch = branch\n",
        "    self.salary = salary\n",
        "  def details(self):\n",
        "    print('Name: ', self.name)\n",
        "    print('ID: ', self.id)\n",
        "    print('Branch: ', self.branch)\n",
        "    print('Salary: ', self.salary)\n",
        "\n",
        "e1 = Employee('Ram', '1123', 'CSE', 82000)\n",
        "e2 = Employee('Shyam', '1258', 'ECE', 90000)\n",
        "e3 = Employee('Ganshyam', '1269', 'DSAI', 85000)\n",
        "e4 = Employee('Rohan', '1382', 'CSE', 187000)\n",
        "e5 = Employee('Kanishka', '1583', 'CSE', 87000)\n",
        "\n",
        "e1.details()\n",
        "print()\n",
        "e2.details()\n",
        "print()\n",
        "e3.details()\n",
        "print()\n",
        "e4.details()\n",
        "print()\n",
        "e5.details()"
      ],
      "execution_count": 18,
      "outputs": [
        {
          "output_type": "stream",
          "name": "stdout",
          "text": [
            "Name:  Ram\n",
            "ID:  1123\n",
            "Branch:  CSE\n",
            "Salary:  82000\n",
            "\n",
            "Name:  Shyam\n",
            "ID:  1258\n",
            "Branch:  ECE\n",
            "Salary:  90000\n",
            "\n",
            "Name:  Ganshyam\n",
            "ID:  1269\n",
            "Branch:  DSAI\n",
            "Salary:  85000\n",
            "\n",
            "Name:  Rohan\n",
            "ID:  1382\n",
            "Branch:  CSE\n",
            "Salary:  187000\n",
            "\n",
            "Name:  Kanishka\n",
            "ID:  1583\n",
            "Branch:  CSE\n",
            "Salary:  87000\n"
          ]
        }
      ]
    },
    {
      "cell_type": "code",
      "metadata": {
        "id": "btfzV9-E0BFH",
        "colab": {
          "base_uri": "https://localhost:8080/",
          "height": 0
        },
        "outputId": "cfee08be-fed9-4dbe-acb3-ce7875fc5403"
      },
      "source": [
        "#3\n",
        "\n",
        "class Account:\n",
        "  def details(self, acc_no, name, amount):\n",
        "    self.acount_no = acc_no\n",
        "    self.acountholder = name\n",
        "    self.amount = amount\n",
        "  \n",
        "  def deposit(self, acc_no):\n",
        "    if self.acount_no == acc_no:\n",
        "      print(\"\"\"Login done\n",
        "      Enter deposit amount: \"\"\")\n",
        "      a = int(input())\n",
        "      print(f\"{a} deposited.\")\n",
        "    else:\n",
        "      print(\"Wrong details.\")\n",
        "  \n",
        "  def withdraw(self, acc_no, name):\n",
        "    if self.acount_no == acc_no and self.acountholder == name:\n",
        "      print(\"\"\"Login done\n",
        "      Enter withdraw amount: \"\"\")\n",
        "      a = int(input())\n",
        "      if a > self.amount:\n",
        "        print(\"Low balance\")\n",
        "      else:\n",
        "        self.amount = self.amount - a\n",
        "        print(f\"Withdrawn {a} rupees\")\n",
        "    else:\n",
        "      print(\"Wrong details.\")\n",
        "  def checkBalance(self, acc_no, name):\n",
        "    if self.acount_no == acc_no and self.acountholder == name:\n",
        "      print(f\"\"\"Login done, \n",
        "      balance: {self.amount}\"\"\")  \n",
        "    else:\n",
        "      print(\"Wrong details.\")\n",
        "  def display_ac(self, acc_no):\n",
        "      print(f\"\"\" Your account details are:\n",
        "        Account Number: {self.acount_no}\n",
        "        Account Holder name: {self.acountholder}\n",
        "        Amount = {self.amount}\"\"\")\n",
        "\n",
        "P1 = Account()\n",
        "P1.details(1121, \"Amit\", 78000)\n",
        "P2 = Account()\n",
        "P2.details(1390, \"Bil\", 85000)\n",
        "P3 = Account()\n",
        "P3.details(1532, \"Rakhi\", 21000)\n",
        "P4 = Account()\n",
        "P4.details(2128, \"Fred\", 1345213)\n",
        "P1.deposit(1121)\n",
        "P2.withdraw(1390, \"Bil\")\n",
        "P2.display_ac(1390)\n",
        "P3.checkBalance(1532, \"Rakhi\")\n",
        "P4.display_ac(2128)"
      ],
      "execution_count": 11,
      "outputs": [
        {
          "output_type": "stream",
          "name": "stdout",
          "text": [
            "Login done\n",
            "      Enter deposit amount: \n",
            "10000\n",
            "10000 deposited.\n",
            "Login done\n",
            "      Enter withdraw amount: \n",
            "100\n",
            "Withdrawn 100 rupees\n",
            " Your account details are:\n",
            "        Account Number: 1390\n",
            "        Account Holder name: Bil\n",
            "        Amount = 84900\n",
            "Login done, \n",
            "      balance: 21000\n",
            " Your account details are:\n",
            "        Account Number: 2128\n",
            "        Account Holder name: Fred\n",
            "        Amount = 1345213\n"
          ]
        }
      ]
    },
    {
      "cell_type": "code",
      "metadata": {
        "colab": {
          "base_uri": "https://localhost:8080/",
          "height": 0
        },
        "id": "rw_ObDPG7jk-",
        "outputId": "e619b8a5-97ec-474d-8eb5-6d270b95f8f7"
      },
      "source": [
        "#4\n",
        "\n",
        "class Student:\n",
        "  def details(self, name , usn, english, maths , science):\n",
        "    self.name = name\n",
        "    self.usn = usn\n",
        "    self.english = english\n",
        "    self.maths = maths\n",
        "    self.science = science\n",
        "    self.n = [\"Amir\", \"Taimur\"]\n",
        "    self.n.append(name)\n",
        "    self.emarks = [84, 93]\n",
        "    self.emarks.append(english)\n",
        "    self.mmarks = [94, 86]\n",
        "    self.mmarks.append(maths)\n",
        "    self.smarks = [86, 79]\n",
        "    self.smarks.append(science)\n",
        "  def display(self, name, n, usn, emarks, mmarks, smarks):\n",
        "    for i in range(0,3):\n",
        "      if name == n[i]:\n",
        "        print(f\"Name = {n[i]},  USN = {usn} ,  Marks in English = {emarks[i]} ,  Marks in Maths = {mmarks[i]} ,  Marks in Science = {smarks[i]}\")\n",
        "        exit\n",
        "      \n",
        "a1 = Student()\n",
        "a1.details(\"David\", 134, 86, 90, 85)\n",
        "a1.display(\"David\", a1.n, a1.usn, a1.emarks, a1.mmarks, a1.smarks)"
      ],
      "execution_count": 27,
      "outputs": [
        {
          "output_type": "stream",
          "name": "stdout",
          "text": [
            "Name = David,  USN = 134 ,  Marks in English = 86 ,  Marks in Maths = 90 ,  Marks in Science = 85\n"
          ]
        }
      ]
    },
    {
      "cell_type": "code",
      "metadata": {
        "colab": {
          "base_uri": "https://localhost:8080/"
        },
        "id": "Zr9RMa2ZR30I",
        "outputId": "089ef0ad-dbc2-4d2d-d036-02aa6cc54808"
      },
      "source": [
        "#5\n",
        "\n",
        "class Patient:\n",
        "\n",
        "  def __init__(self):\n",
        "\n",
        "    self.name = input(\"Name: \")\n",
        "\n",
        "    self.admit_date = input(\"Admit Date(dd/mm/yy): \")\n",
        "\n",
        "    i = int(input(\"Enter no of symptoms: \"))\n",
        "\n",
        "    self.symptom = []\n",
        "\n",
        "    self.gnum = 0\n",
        "\n",
        "    self.onum = 0\n",
        "\n",
        "    for j in range(1,i+1):\n",
        "\n",
        "      temp = input(f\"symptom {j}: \")\n",
        "\n",
        "      self.symptom.append(temp)\n",
        "\n",
        "    self.oxy = int(input(\"oxygen level: \"))\n",
        "\n",
        "    self.dis_date = input(\"Discharge Date(dd/mm/yy): \")\n",
        "\n",
        "  def ward(self):\n",
        "\n",
        "    if self.oxy <90:\n",
        "\n",
        "      print(\"Shift patient to ICU and keep on Oxygen\")\n",
        "\n",
        "      self.onum = self.onum + 1\n",
        "\n",
        "    else:\n",
        "\n",
        "      print(\"Patient's health is normal shift him to General Ward\")\n",
        "\n",
        "      self.gnum = self.gnun + 1\n",
        "\n",
        "  def patient_num(self):\n",
        "\n",
        "    print(f\"Patient in General ward are : {self.gnum}.\")\n",
        "\n",
        "    print(f\"Total Patients admitted are: {self.onum+self.gnum}.\")\n",
        "\n",
        "  def display(self):\n",
        "\n",
        "    print(f\"Patient Name: {self.name}  Patient's date of admit: {self.admit_date}   Patient's symptoms: {self.symptom}    Patient's Oxygen Level: {self.oxy}   Patient's date of discharge: {self.dis_date}\")\n",
        "\n",
        " \n",
        "\n",
        "p1= Patient()\n",
        "\n",
        "p1.display()\n",
        "\n",
        "p1.ward()\n",
        "\n",
        "p1.patient_num()"
      ],
      "execution_count": 46,
      "outputs": [
        {
          "output_type": "stream",
          "name": "stdout",
          "text": [
            "Name: Hit\n",
            "Admit Date(dd/mm/yy): 12/11/21\n",
            "Enter no of symptoms: 1\n",
            "symptom 1: Asthama\n",
            "oxygen level: 89\n",
            "Discharge Date(dd/mm/yy): 01/01/22\n",
            "Patient Name: Hit  Patient's date of admit: 12/11/21   Patient's symptoms: ['Asthama']    Patient's Oxygen Level: 89   Patient's date of discharge: 01/01/22\n",
            "Shift patient to ICU and keep on Oxygen\n",
            "Patient in General ward are : 0.\n",
            "Total Patients admitted are: 1.\n"
          ]
        }
      ]
    },
    {
      "cell_type": "code",
      "metadata": {
        "colab": {
          "base_uri": "https://localhost:8080/",
          "height": 0
        },
        "id": "e0maXG6UM2wC",
        "outputId": "a81ae06e-d8e1-4962-cd2e-3cbe148cf27d"
      },
      "source": [
        "#6\n",
        "\n",
        "class Time:\n",
        "  def __init__(self):\n",
        "    self.hours = int(input(\"Enter hours: \"))\n",
        "    self.minutes = int(input(\"Minutes: \"))\n",
        "    self. seconds = int(input(\"Seconds:  \"))\n",
        "\n",
        "  def display_time(self):\n",
        "    if self.hours > 9:\n",
        "      print(\"{0}:\".format(self.hours), end='')\n",
        "    else:\n",
        "      print(\"0{0}:\".format(self.hours), end='')\n",
        "    if self.minutes > 9:\n",
        "      print(\"{0}:\".format(self.minutes), end='')\n",
        "    else:\n",
        "      print(\"0{0}:\".format(self.minutes), end='')\n",
        "    if self.seconds > 9:\n",
        "      print(\"{0}\".format(self.seconds), end='')\n",
        "    else:\n",
        "      print(\"0{0}\".format(self.seconds), end='')\n",
        "\n",
        "t = Time()\n",
        "t.display_time()\n"
      ],
      "execution_count": 41,
      "outputs": [
        {
          "output_type": "stream",
          "name": "stdout",
          "text": [
            "Enter hours: 10\n",
            "Minutes: 9\n",
            "Seconds:  8\n",
            "10:09:08"
          ]
        }
      ]
    },
    {
      "cell_type": "code",
      "metadata": {
        "colab": {
          "base_uri": "https://localhost:8080/",
          "height": 0
        },
        "id": "cy7ZPTW1M-It",
        "outputId": "afcc30cd-9b8f-44e4-e573-abf51f3dce9a"
      },
      "source": [
        "#7\n",
        "\n",
        "class Student:\n",
        "\n",
        "  def __init__(self, name, age, roll):\n",
        "    self.name = name\n",
        "    self.age = age\n",
        "    self.roll = roll  \n",
        "\n",
        "s1 = Student(\"Prem\", 24, 73)\n",
        "s2 = Student(\"Jeet\", 24, 46) \n",
        "\n",
        "def compare():\n",
        "  if s1.age == s2.age:\n",
        "    print(\"the ages of two students are equal\")\n",
        "  else:\n",
        "    print(\"the ages are not equal\")\n",
        " \n",
        "compare()"
      ],
      "execution_count": 42,
      "outputs": [
        {
          "output_type": "stream",
          "name": "stdout",
          "text": [
            "the ages are not equal\n"
          ]
        }
      ]
    },
    {
      "cell_type": "code",
      "metadata": {
        "colab": {
          "base_uri": "https://localhost:8080/",
          "height": 0
        },
        "id": "989ORGsPOHoB",
        "outputId": "5fa22ebf-5529-4fa5-fd88-58b7cdb01736"
      },
      "source": [
        "#8\n",
        "\n",
        "class Student:\n",
        "  institute = \"IIIT Dharwad\"\n",
        "  semester = 3\n",
        "  def __init__(self):\n",
        "    self.name = input(\"Name: \")\n",
        "    self.USN = int(input(\"USN: \"))\n",
        "\n",
        "  def display_instance(self):\n",
        "    print(f\"Name: {self.name}   USN: {self.USN} \")\n",
        "  \n",
        "  def display_class(self):\n",
        "    print(f\"Institute name: {self.institute}   Semester: {self.semester}\")\n",
        "\n",
        "def explanation():\n",
        "  print(f\"It has 2 class variables - Institute and Semester, 2 instance variables - name and USN, 1 class method - printClass and 1 instance method - printInstance. Instance methods use the instance variables, whereas class methods use the class variables.\")\n",
        "\n",
        "std1 = Student()\n",
        "std1.display_class()\n",
        "std1.display_instance()\n",
        "explanation()"
      ],
      "execution_count": 44,
      "outputs": [
        {
          "output_type": "stream",
          "name": "stdout",
          "text": [
            "Name: Hit\n",
            "USN: 1234\n",
            "Institute name: IIIT Dharwad   Semester: 3\n",
            "Name: Hit   USN: 1234 \n",
            "It has 2 class variables - Institute and Semester, 2 instance variables - name and USN, 1 class method - printClass and 1 instance method - printInstance. Instance methods use the instance variables, whereas class methods use the class variables.\n"
          ]
        }
      ]
    },
    {
      "cell_type": "code",
      "metadata": {
        "colab": {
          "base_uri": "https://localhost:8080/",
          "height": 0
        },
        "id": "AfN6qtu2Of4s",
        "outputId": "8f988562-d2b4-4028-f8a5-fa1c8d72b1e0"
      },
      "source": [
        "#9\n",
        "\n",
        "class Student:\n",
        "\n",
        "  def __init__(self):\n",
        "    self.name = input(\"Enter name: \")\n",
        "    self.roll_no = input(\"Roll No.: \")\n",
        "    self.sem = (\"Semester: \")\n",
        "    self.l1 = self.laptop1(\"intel\", \"8 gb\", \"512 gb\")\n",
        "    self.l2 = self.laptop2(\"ryzen\", \"16 gb\", \"1 Tb\")\n",
        "\n",
        "  def display(self):\n",
        "    print(\"name of student is: \", self.name)\n",
        "    print(\"roll no. of student is: \", self.roll_no)\n",
        "    print(\"semester of student is: \", self.sem)\n",
        "\n",
        "  class laptop1:\n",
        "\n",
        "    def __init__(self, name, ram, hard_disc):\n",
        "      self.cpu = name\n",
        "      self.ram = ram\n",
        "      self.hard_disk = hard_disc\n",
        "\n",
        "    def display_inner1(self):\n",
        "      print(\"chip used in cpu is: \", self.cpu)\n",
        "      print(\"ram capacity is: \", self.ram)\n",
        "      print(\"hard_disk capacity is: \", self.hard_disk)\n",
        " \n",
        "  class laptop2: \n",
        "\n",
        "    def __init__(self, name, ram, hard_disc):\n",
        "      self.cpu = name\n",
        "      self.ram = ram\n",
        "      self.hard_disk = hard_disc\n",
        "    \n",
        "    def display_inner2(self):\n",
        "      print(f\"chip used in cpu is:  {self.cpu}\")\n",
        "      print(f\"ram capacity is: {self.ram}\")\n",
        "      print(f\"hard_disk capacity is:  {self.hard_disk}\")      \n",
        "\n",
        "student1 = Student()\n",
        "student1.display() \n",
        "\n",
        "print(\"\\n\")\n",
        "\n",
        "l1 = student1.l1\n",
        "l1.display_inner1()\n",
        "\n",
        "print(\"\\n\")\n",
        "\n",
        "l2 = student1.l2\n",
        "l2.display_inner2()"
      ],
      "execution_count": 45,
      "outputs": [
        {
          "output_type": "stream",
          "name": "stdout",
          "text": [
            "Enter name: Hit\n",
            "Roll No.: 1234\n",
            "name of student is:  Hit\n",
            "roll no. of student is:  1234\n",
            "semester of student is:  Semester: \n",
            "\n",
            "\n",
            "chip used in cpu is:  intel\n",
            "ram capacity is:  8 gb\n",
            "hard_disk capacity is:  512 gb\n",
            "\n",
            "\n",
            "chip used in cpu is:  ryzen\n",
            "ram capacity is: 16 gb\n",
            "hard_disk capacity is:  1 Tb\n"
          ]
        }
      ]
    }
  ]
}