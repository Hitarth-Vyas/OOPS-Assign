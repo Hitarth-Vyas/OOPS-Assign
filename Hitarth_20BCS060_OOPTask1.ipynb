{
  "nbformat": 4,
  "nbformat_minor": 0,
  "metadata": {
    "colab": {
      "name": "Assignment1.ipynb",
      "provenance": [],
      "collapsed_sections": [],
      "mount_file_id": "1ydYEr0HUdhI7QLRjJTLPRBUHFTqcnpRD",
      "authorship_tag": "ABX9TyOmrUFJgO0BE5YnQ/Q6TP8O",
      "include_colab_link": true
    },
    "kernelspec": {
      "name": "python3",
      "display_name": "Python 3"
    },
    "language_info": {
      "name": "python"
    }
  },
  "cells": [
    {
      "cell_type": "markdown",
      "metadata": {
        "id": "view-in-github",
        "colab_type": "text"
      },
      "source": [
        "<a href=\"https://colab.research.google.com/github/Hitarth-Vyas/OOPs-Assign/blob/main/Hitarth_20BCS060_OOPTask1.ipynb\" target=\"_parent\"><img src=\"https://colab.research.google.com/assets/colab-badge.svg\" alt=\"Open In Colab\"/></a>"
      ]
    },
    {
      "cell_type": "code",
      "metadata": {
        "colab": {
          "base_uri": "https://localhost:8080/"
        },
        "id": "nbQwGxYv18aZ",
        "outputId": "728778b9-91cd-4788-a084-e24a41bb1661"
      },
      "source": [
        "n = int(input(\"Enter an year\\n\"))\n",
        "\n",
        "if(n%4 == 0):\n",
        "    if(n%100 == 0 and n%400 != 0):\n",
        "        a = False\n",
        "    else:\n",
        "        a = True\n",
        "\n",
        "else:\n",
        "    a = False\n",
        "\n",
        "print(\"Leap year or not\")\n",
        "print(f\"{a}\")"
      ],
      "execution_count": 2,
      "outputs": [
        {
          "output_type": "stream",
          "name": "stdout",
          "text": [
            "Enter an year\n",
            "1991\n",
            "Leap year or not\n",
            "False\n"
          ]
        }
      ]
    },
    {
      "cell_type": "code",
      "metadata": {
        "id": "rTrIEehR2sOw"
      },
      "source": [
        "n = int(input(\"Enter a number\\n\"))\n",
        "\n",
        "if(n%2 == 0):\n",
        "    if((n >= 2 and n <= 5) or (n > 20)):\n",
        "        print(\"Not Weired\")\n",
        "    else:\n",
        "        print(\"Weired\")\n",
        "\n",
        "else:\n",
        "    print(\"Weired\")"
      ],
      "execution_count": null,
      "outputs": []
    },
    {
      "cell_type": "code",
      "metadata": {
        "id": "uKTIQZ0m2xKG"
      },
      "source": [
        "def function():\n",
        "  size = int(input(\"List size: \"))\n",
        "  a = []\n",
        "  for i in range(0, size):\n",
        "    data = input()\n",
        "    a.append(data)\n",
        "  r = int((size)/2)\n",
        "  for i in range(r, size-1):\n",
        "     print(a[i]+\" is fashionably late.\")\n",
        "\n",
        "function()"
      ],
      "execution_count": null,
      "outputs": []
    },
    {
      "cell_type": "code",
      "metadata": {
        "id": "ot-D46zU8gOp"
      },
      "source": [
        "def fun(n, val):\n",
        "  \n",
        "  filter = []\n",
        "  for i in range(0, n):\n",
        "    data = input()\n",
        "    filter.append(data)\n",
        "    #for i in range(n):\n",
        "    filter[i] = filter[i].lower()\n",
        "    if any(val in word for word in filter):\n",
        "      print(\" present\")\n",
        "    else:\n",
        "      print(\"not present\")\n",
        "\n",
        "size = 1\n",
        "val = input(\"Enter value to be searched in lower case: \")\n",
        "fun(size, val)"
      ],
      "execution_count": null,
      "outputs": []
    },
    {
      "cell_type": "code",
      "metadata": {
        "id": "R5DiNIl6FSi1"
      },
      "source": [
        "bp = int(input())\n",
        "da = 0.4*bp\n",
        "hra = 0.2*bp\n",
        "gp = bp+da+hra\n",
        "print(gp)"
      ],
      "execution_count": null,
      "outputs": []
    }
  ]
}