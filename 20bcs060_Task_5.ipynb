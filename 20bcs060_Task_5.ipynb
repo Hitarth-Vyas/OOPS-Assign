{
  "nbformat": 4,
  "nbformat_minor": 0,
  "metadata": {
    "colab": {
      "name": "20bcs060_Task-5.ipynb",
      "provenance": [],
      "authorship_tag": "ABX9TyMqMcDUYcGMGggazbcrBeLL",
      "include_colab_link": true
    },
    "kernelspec": {
      "name": "python3",
      "display_name": "Python 3"
    },
    "language_info": {
      "name": "python"
    }
  },
  "cells": [
    {
      "cell_type": "markdown",
      "metadata": {
        "id": "view-in-github",
        "colab_type": "text"
      },
      "source": [
        "<a href=\"https://colab.research.google.com/github/Hitarth-Vyas/OOPs-Assign/blob/main/20bcs060_Task_5.ipynb\" target=\"_parent\"><img src=\"https://colab.research.google.com/assets/colab-badge.svg\" alt=\"Open In Colab\"/></a>"
      ]
    },
    {
      "cell_type": "code",
      "metadata": {
        "id": "BOnUewOkSkZJ",
        "colab": {
          "base_uri": "https://localhost:8080/"
        },
        "outputId": "bff369ef-5c49-41d5-a99c-428849c93f8a"
      },
      "source": [
        "class Shape:\n",
        "  def __init__(self):\n",
        "    self.parameter = 0\n",
        "\n",
        "class Circle(Shape):\n",
        "  def area(self, parameter):\n",
        "    self.parameter = parameter\n",
        "    print(f\"Area of circle: {3.14 * self.parameter * self.parameter}\")\n",
        "\n",
        "class Square(Shape):\n",
        "  def area(self, parameter):\n",
        "    self.parameter = parameter\n",
        "    print(f\"Area of square: {self.parameter * self.parameter}\")\n",
        "\n",
        "class Rectangle(Shape):\n",
        "  def area(self, parameter, parameter1):\n",
        "    self.parameter = parameter\n",
        "    self.parameter1 = parameter1\n",
        "    print(f\"Area of Rectangle: {self.parameter * self.parameter}\")\n",
        "\n",
        "c = Circle()\n",
        "c.area(15)\n",
        "s = Square()\n",
        "s.area(15)\n",
        "r = Rectangle()\n",
        "r.area(15, 20)"
      ],
      "execution_count": null,
      "outputs": [
        {
          "output_type": "stream",
          "name": "stdout",
          "text": [
            "Area of circle: 706.5\n",
            "Area of square: 225\n",
            "Area of Rectangle: 225\n"
          ]
        }
      ]
    },
    {
      "cell_type": "code",
      "metadata": {
        "colab": {
          "base_uri": "https://localhost:8080/"
        },
        "id": "l44Y1g5ybmeQ",
        "outputId": "e34d5379-9857-4df3-d5c4-90f7f09bd21c"
      },
      "source": [
        "class Travel:\n",
        "  def __init__(self):\n",
        "    self.passenger = 65\n",
        "    self.distance = 123\n",
        "\n",
        "class Bus(Travel):\n",
        "  def cost(self):\n",
        "    Travel.__init__(self)\n",
        "    self.fare = 234\n",
        "    print(f\"Total cost of journey: {self.passenger * self.distance * self.fare}\")\n",
        "\n",
        "class Train(Travel):\n",
        "  def cost(self):\n",
        "    Travel.__init__(self)\n",
        "    self.fare = 213\n",
        "    print(f\"Total cost of journey: {self.passenger * self.distance * self.fare}\")\n",
        "\n",
        "b = Bus()\n",
        "b.cost()\n",
        "t = Train()\n",
        "t.cost()"
      ],
      "execution_count": null,
      "outputs": [
        {
          "output_type": "stream",
          "name": "stdout",
          "text": [
            "Total cost of journey: 1870830\n",
            "Total cost of journey: 1702935\n"
          ]
        }
      ]
    },
    {
      "cell_type": "code",
      "metadata": {
        "colab": {
          "base_uri": "https://localhost:8080/"
        },
        "id": "82rZMgDU2qLb",
        "outputId": "7fa66ddf-6fec-41e5-d7d2-7e98623c1b1d"
      },
      "source": [
        "class Car:\n",
        "  def __init__(self):\n",
        "    self.model1 = 2143\n",
        "    self.model2 = 1893\n",
        "  def display(self):\n",
        "    print(f\"Model 1 : {self.model1}\")\n",
        "    print(f\"Model 2 : {self.model2}\")\n",
        "  def swap(self):\n",
        "    self.temp = self.model1\n",
        "    self.model1 = self.model2\n",
        "    self.model2 = self.temp\n",
        "\n",
        "c = Car()\n",
        "c.display()\n",
        "print(\"After swap\")\n",
        "c.swap()\n",
        "c.display()"
      ],
      "execution_count": null,
      "outputs": [
        {
          "output_type": "stream",
          "name": "stdout",
          "text": [
            "Model 1 : 2143\n",
            "Model 2 : 1893\n",
            "Model 1 : 1893\n",
            "Model 2 : 2143\n"
          ]
        }
      ]
    }
  ]
}