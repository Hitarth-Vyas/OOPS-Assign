{
  "nbformat": 4,
  "nbformat_minor": 0,
  "metadata": {
    "colab": {
      "name": "Hitarth_20BCS060_OOPTask3.ipynb",
      "provenance": [],
      "authorship_tag": "ABX9TyNqYpG0D34J3T7oOJLWCxap",
      "include_colab_link": true
    },
    "kernelspec": {
      "name": "python3",
      "display_name": "Python 3"
    },
    "language_info": {
      "name": "python"
    }
  },
  "cells": [
    {
      "cell_type": "markdown",
      "metadata": {
        "id": "view-in-github",
        "colab_type": "text"
      },
      "source": [
        "<a href=\"https://colab.research.google.com/github/Hitarth-Vyas/OOPs-Assign/blob/main/Hitarth_20BCS060_OOPTask3.ipynb\" target=\"_parent\"><img src=\"https://colab.research.google.com/assets/colab-badge.svg\" alt=\"Open In Colab\"/></a>"
      ]
    },
    {
      "cell_type": "code",
      "metadata": {
        "id": "zad-iOn9ntI6",
        "colab": {
          "base_uri": "https://localhost:8080/",
          "height": 0
        },
        "outputId": "a604c224-5cef-41ac-8079-432ee6a3a6a2"
      },
      "source": [
        "class Student:\n",
        "  def input_details(self, name, reg_no, age, gender, branch, sem):\n",
        "    self.name = name\n",
        "    self.reg_no = reg_no\n",
        "    self.age = age\n",
        "    self.gender = gender\n",
        "    self.branch = branch\n",
        "    self.sem = sem\n",
        "\n",
        "  def display_basic(self):\n",
        "    print(f\"Name: {self.name} \\n Regestration Number: {self.reg_no} \\n Age: {self.age} \\n Gender: {self.gender} \\n Branch: {self.branch} \\n Sem: {self.sem} \\n\")\n",
        "class StudentResultInfo( Student ):\n",
        "  def __init__(self, t_marks, percentage, grade):\n",
        "    self.total_marks = t_marks\n",
        "    self.percentage = percentage\n",
        "    self.grade = grade\n",
        "  def display_full(self):\n",
        "    print(f\"Total Marks: {self.total_marks} \\n Percentage: {self.percentage} \\n Grade: {self.grade}\")\n",
        "s1 = StudentResultInfo(426, 85.2, \"A\")\n",
        "s1.input_details(\"Ankit\",\"20bcs030\", 20, \"Male\", \"CSE\", 3)\n",
        "s1.display_basic()\n",
        "s1.display_full()"
      ],
      "execution_count": 2,
      "outputs": [
        {
          "output_type": "stream",
          "name": "stdout",
          "text": [
            "Name: Ankit \n",
            " Regestration Number: 20bcs030 \n",
            " Age: 20 \n",
            " Gender: Male \n",
            " Branch: CSE \n",
            " Sem: 3 \n",
            "\n",
            "Total Marks: 426 \n",
            " Percentage: 85.2 \n",
            " Grade: A\n"
          ]
        }
      ]
    },
    {
      "cell_type": "code",
      "metadata": {
        "colab": {
          "base_uri": "https://localhost:8080/",
          "height": 0
        },
        "id": "F20BfRvdVuYC",
        "outputId": "ee0ae324-cd0c-4409-c5fa-4ce59f985b82"
      },
      "source": [
        "class Pdf:\n",
        "  def __init__(self, cr, dis, size):\n",
        "    self.create = cr\n",
        "    self.dscrp = dis\n",
        "    self.size = size\n",
        "\n",
        "  def display(self):\n",
        "    print(\"Created by:\",self.create)\n",
        "    print(\"Description:\", self.dscrp)\n",
        "    print(\"File size (in KBs):\", self.size)\n",
        "\n",
        "  def sizeLimit(self):\n",
        "    if self.size > 1024:         \n",
        "      print(\"Size exceeds.\\n\")\n",
        "    else:\n",
        "      print(\"Size is within the limit.\\n\")\n",
        "\n",
        "class Pic(Pdf):\n",
        "  def __init__(self, created, discription, size, dim):\n",
        "    super().__init__(created, discription, size)\n",
        "    self.dim = dim\n",
        "\n",
        "  def dimensioninfo(self):\n",
        "    if self.dim>256: \n",
        "      print(\"High Dimension!\\n\")\n",
        "    else:\n",
        "      print(\"Image is good.\\n\")\n",
        "\n",
        "  def displaypixel(self):\n",
        "    self.display()\n",
        "    print(\"Dimensions (in pixels):\", self.dim)\n",
        "\n",
        "  \n",
        "\n",
        "p1 = Pdf(\"Aman\", \"I am from IIIT Dharwad\", 2321)\n",
        "p1.display()\n",
        "p1.sizeLimit()\n",
        "print()\n",
        "img = Pic(\"Happy\", \"I am ok\", 1221, 203)\n",
        "img.displaypixel()\n",
        "img.dimensioninfo()"
      ],
      "execution_count": 4,
      "outputs": [
        {
          "output_type": "stream",
          "name": "stdout",
          "text": [
            "Created by: Aman\n",
            "Description: I am from IIIT Dharwad\n",
            "File size (in KBs): 2321\n",
            "Size exceeds.\n",
            "\n",
            "\n",
            "Created by: Happy\n",
            "Description: I am ok\n",
            "File size (in KBs): 1221\n",
            "Dimensions (in pixels): 203\n",
            "Image is good.\n",
            "\n"
          ]
        }
      ]
    },
    {
      "cell_type": "code",
      "metadata": {
        "colab": {
          "base_uri": "https://localhost:8080/",
          "height": 0
        },
        "id": "GEoACa64WvJ1",
        "outputId": "b1a05d89-7bbc-4fb2-cba3-a058599a8c69"
      },
      "source": [
        "class Vehicle:\n",
        "  def __init__(self, n, m, c): \n",
        "    self.name = n\n",
        "    self.mileage = m\n",
        "    self.capacity = c\n",
        "\n",
        "  def fare(self):\n",
        "    return self.capacity*100\n",
        "\n",
        "class Bus(Vehicle):\n",
        "  def busFare(self):\n",
        "    return 1.1*self.fare()\n",
        "  def display(self):\n",
        "    print(f\"Name: {self.name} \\n Mileage: {self.mileage} \\n Capacity: {self.capacity}\")\n",
        "\n",
        "bus1 = Bus(\"Roadways\", 10, 61)\n",
        "bus1.display()"
      ],
      "execution_count": 5,
      "outputs": [
        {
          "output_type": "stream",
          "name": "stdout",
          "text": [
            "Name: Roadways \n",
            " Mileage: 10 \n",
            " Capacity: 61\n"
          ]
        }
      ]
    }
  ]
}