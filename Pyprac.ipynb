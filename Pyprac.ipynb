{
  "nbformat": 4,
  "nbformat_minor": 0,
  "metadata": {
    "colab": {
      "name": "Pyprac.ipynb",
      "provenance": [],
      "collapsed_sections": [],
      "authorship_tag": "ABX9TyMcXin7Ygqn4vr6I+0AUMJR",
      "include_colab_link": true
    },
    "kernelspec": {
      "name": "python3",
      "display_name": "Python 3"
    },
    "language_info": {
      "name": "python"
    }
  },
  "cells": [
    {
      "cell_type": "markdown",
      "metadata": {
        "id": "view-in-github",
        "colab_type": "text"
      },
      "source": [
        "<a href=\"https://colab.research.google.com/github/Hitarth-Vyas/OOPs-Assign/blob/main/Pyprac.ipynb\" target=\"_parent\"><img src=\"https://colab.research.google.com/assets/colab-badge.svg\" alt=\"Open In Colab\"/></a>"
      ]
    },
    {
      "cell_type": "code",
      "metadata": {
        "id": "1mfrWDElLPua"
      },
      "source": [
        "# Quick Sort\n",
        "\n",
        "def quicksort(arr):\n",
        "  if len(arr) <= 1:\n",
        "    return arr \n",
        "  pivot = arr[len(arr) // 2]\n",
        "  left = [x for x in arr if x < pivot]\n",
        "  middle = [x for x in arr if x == pivot]\n",
        "  right = [x for x in arr if x > pivot]\n",
        "  return quicksort(left) + middle + quicksort(right)\n",
        "\n",
        "print(quicksort([3, 6, 8, 10, 1, 2, 1]))"
      ],
      "execution_count": null,
      "outputs": []
    },
    {
      "cell_type": "code",
      "metadata": {
        "id": "BVwAiyrQPnQ0"
      },
      "source": [
        "# Strings\n",
        "\n",
        "# Stiring concatenation\n",
        "str1 = 'Welcome'\n",
        "str2 = \"IT World\"\n",
        "\n",
        "message = str1 + ' to ' + str2 + ' of'\n",
        "print(message)\n",
        "\n",
        "# String Formatting\n",
        "sentance = '{} {} {}'.format(str1, str2, 'India') \n",
        "print(sentance)\n",
        "\n",
        "# Some useful string methods\n",
        "v1 = \"Good Luck\"\n",
        "print(v1.capitalize())         # Capitalise a strring\n",
        "print(v1.upper())              # Convert a string to uppercase\n",
        "print(v1.rjust(10))            # Right-justify a string, padding with spaces, spaces at left\n",
        "print(v1.center(100))           # Center a string, padding with spaces, distributes equal spaces both side of sentences\n",
        "print(v1.replace('L', '(ell)'))     # Replace all instances of one substring with another\n",
        "print('    India  is'.strip())      # Strip leading and trailing whitespace "
      ],
      "execution_count": null,
      "outputs": []
    },
    {
      "cell_type": "code",
      "metadata": {
        "id": "2OLB5b0jXNm6"
      },
      "source": [
        "# List\n",
        "\n",
        "list = [10, 20, 30, 40]\n",
        "a = list[-2]\n",
        "print(list[-1])\n",
        "print(a)\n",
        "\n",
        "list[2] = 'Best of luck'\n",
        "print(list)\n",
        "\n",
        "list.append('Indians')\n",
        "print(list)\n",
        "\n",
        "b = list.pop()             # Removes and return the last element of the list\n",
        "print(b)\n",
        "print(list)\n",
        "\n",
        "# Slicing\n",
        "sls = list(range(5))    # range is built-in function creates a list of integers\n",
        "print(sls)         \n",
        "print(sls[2:4])    # Get a slice from index 2 to 4 (exclusive)\n",
        "print(sls[2:])     # Get a slice from index 2 to the end;\n",
        "print(sls[:2])     # Get a slice from the start to index 2 (exclusive); \n",
        "print(sls[:])      # Get a slice of the whole list;\n",
        "print(sls[:-1])    # Slice indices can be negative;\n",
        "sls[2:4] = [8, 9] # Assign a new sublist to a slice\n",
        "print(sls) \n",
        "\n",
        "# If you want access to the index of each element within the body of a loop, use the built-in enumerate function:\n",
        "wildanimals = ['Lion', 'Elephant', 'Tiger']\n",
        "for idx, animal in enumerate(wildanimals):\n",
        "  print('#{}: {}'.format(idx+1, animal))"
      ],
      "execution_count": null,
      "outputs": []
    },
    {
      "cell_type": "code",
      "metadata": {
        "id": "4ljHC0gLg6fR"
      },
      "source": [
        "# Same output diff syntax \n",
        "\n",
        "nums = [10, 20, 30, 40]\n",
        "\n",
        "squares = []\n",
        "for x in nums:\n",
        "    squares.append(x ** 2)\n",
        "print(squares)\n",
        "\n",
        "squares = [x ** 2 for x in nums]\n",
        "print(squares)"
      ],
      "execution_count": null,
      "outputs": []
    },
    {
      "cell_type": "code",
      "metadata": {
        "id": "BMQBLdPZa2UY"
      },
      "source": [
        "# Dictionary \n",
        "\n",
        "items = {\n",
        "    'mat': 'black',\n",
        "    'pencil': 'red'\n",
        "}\n",
        "\n",
        "print(items['mat'])\n",
        "print('mat in items')\n",
        "\n",
        "items['food'] = 'cold'\n",
        "print(items['food'])\n",
        "\n",
        "# Get an element with default\n",
        "print(items.get('food', 'mat'))\n",
        "\n",
        "# Delete items\n",
        "del items['pencil']\n",
        "print(items.get('pencil', 'N/A'))\n",
        "\n",
        "data = {'person': 2, 'cat': 4, 'spider': 8}\n",
        "for animal, legs in data.items():\n",
        "  print('A {} has {} legs'.format(animal, legs))"
      ],
      "execution_count": null,
      "outputs": []
    },
    {
      "cell_type": "code",
      "metadata": {
        "id": "mXWXRG22i6_l"
      },
      "source": [
        "# Sets\n",
        "\n",
        "animals = {'tiger', 'lions'}\n",
        "\n",
        "print('tiger' in animals)\n",
        "print('lion' in animals)\n",
        "\n",
        "# Adds an element to set\n",
        "animals.add('camel')\n",
        "print('camel' in animals, len(animals))\n",
        "\n",
        "# Removes an element from set\n",
        "animals.remove('camel')\n",
        "print(len(animals))\n",
        "\n",
        "# Iterating over a set has the same syntax as iterating over a list; however since sets are unordered, you cannot make assumptions about the order in which you visit the elements of the set:\n",
        "animals = {'cat', 'rabbit', 'fish'}\n",
        "for idx, animal in enumerate(animals):\n",
        "  print('#{}: {}'.format(idx+1, animal))"
      ],
      "execution_count": null,
      "outputs": []
    },
    {
      "cell_type": "code",
      "metadata": {
        "id": "GcQvE7Zjmeax"
      },
      "source": [
        "# Tuples\n",
        "\n",
        "data = {(x, x+1): x for x in range(10)}\n",
        "\n",
        "t = (5,6)      # Creates an tuple\n",
        "print(type(t))\n",
        "print(data[t])\n",
        "print(data[(2, 3)])"
      ],
      "execution_count": null,
      "outputs": []
    },
    {
      "cell_type": "code",
      "metadata": {
        "id": "WtvC-m-vpnyb"
      },
      "source": [
        "import numpy as np"
      ],
      "execution_count": 3,
      "outputs": []
    },
    {
      "cell_type": "code",
      "metadata": {
        "id": "obKqmLcrtpL-"
      },
      "source": [
        "arr = np.array([1, 2, 3])\n",
        "print(arr.shape)               # Returns the size of array "
      ],
      "execution_count": null,
      "outputs": []
    },
    {
      "cell_type": "code",
      "metadata": {
        "id": "d7IdbKjRzIJe"
      },
      "source": [
        "a = np.full((2, 2), 7)\n",
        "print(a)"
      ],
      "execution_count": null,
      "outputs": []
    },
    {
      "cell_type": "code",
      "metadata": {
        "id": "z6cUUBLJzqG_"
      },
      "source": [
        "mt = np.eye(2)\n",
        "print(mt)"
      ],
      "execution_count": null,
      "outputs": []
    },
    {
      "cell_type": "code",
      "metadata": {
        "id": "8gzF3PoWz7Nv"
      },
      "source": [
        "b = np.random.random((2,2))\n",
        "print(b)"
      ],
      "execution_count": null,
      "outputs": []
    },
    {
      "cell_type": "code",
      "metadata": {
        "id": "hz2J9mKT0aB9"
      },
      "source": [
        "c = np.array([[12,22,32,42], [53,63,73,83], [96,106,116,126]])\n",
        "res = c[:2, 1:3]\n",
        "print(c, '\\n')\n",
        "print(res)"
      ],
      "execution_count": null,
      "outputs": []
    },
    {
      "cell_type": "code",
      "metadata": {
        "id": "S7Bpg1I51EIU"
      },
      "source": [
        "row_r1 = c[1, :]    # Rank 1 view of the second row of a  \n",
        "row_r2 = c[1:2, :]  # Rank 2 view of the second row of a\n",
        "row_r3 = c[[1], :]  # Rank 2 view of the second row of a\n",
        "print(row_r1, row_r1.shape)\n",
        "print(row_r2, row_r2.shape)\n",
        "print(row_r3, row_r3.shape)\n",
        "print()\n",
        "\n",
        "# We can make the same distinction when accessing columns of an array:\n",
        "col_r1 = c[:, 1]\n",
        "col_r2 = c[:, 1:2]\n",
        "print(col_r1, col_r1.shape)\n",
        "print()\n",
        "print(col_r2, col_r2.shape)"
      ],
      "execution_count": null,
      "outputs": []
    },
    {
      "cell_type": "code",
      "metadata": {
        "id": "pCuSNQ_k2wKG"
      },
      "source": [
        "# Indexing\n",
        "\n",
        "d = np.array([[1, 2], [3, 4], [5, 6]])\n",
        "\n",
        "print(d[[0, 1, 2], [0, 1, 0]])\n",
        "print(np.array([d[0, 0], d[1, 1], d[2, 0]]))"
      ],
      "execution_count": null,
      "outputs": []
    },
    {
      "cell_type": "code",
      "metadata": {
        "id": "K9tLk7xj3qI0"
      },
      "source": [
        "e = np.array([[1,2,3], [4,5,6], [7,8,9], [10, 11, 12]])\n",
        "f = np.array([0, 2, 0, 1])\n",
        "\n",
        "print(e[np.arange(4), f]) "
      ],
      "execution_count": null,
      "outputs": []
    },
    {
      "cell_type": "code",
      "metadata": {
        "colab": {
          "base_uri": "https://localhost:8080/"
        },
        "id": "I-AF0p4T5g8n",
        "outputId": "8d0680a0-ff6b-4a2e-f2f1-bea638c5d7f9"
      },
      "source": [
        "a = np.array([[1,2], [3, 4], [5, 6]])\n",
        "bool_idx = (a%2 == 0)\n",
        "\n",
        "print(bool_idx)"
      ],
      "execution_count": 61,
      "outputs": [
        {
          "output_type": "stream",
          "name": "stdout",
          "text": [
            "[[False  True]\n",
            " [False  True]\n",
            " [False  True]]\n"
          ]
        }
      ]
    },
    {
      "cell_type": "code",
      "metadata": {
        "id": "ViQDfRiP52ib"
      },
      "source": [
        "x = np.array([[1,2],[3,4]], dtype=np.float64)\n",
        "y = np.array([[5,6],[7,8]], dtype=np.float64)\n",
        "\n",
        "# Elementwise sum; both produce the array\n",
        "print(x + y)\n",
        "print(np.add(x, y))\n",
        "\n",
        "print()\n",
        "\n",
        "# Elementwise difference; both produce the array\n",
        "print(x - y)\n",
        "print(np.subtract(x, y))\n",
        "\n",
        "print()\n",
        "\n",
        "# Elementwise product; both produce the array\n",
        "print(x * y)\n",
        "print(np.multiply(x, y))\n",
        "\n",
        "print()\n",
        "\n",
        "# Elementwise division; both produce the array\n",
        "print(x / y)\n",
        "print(np.divide(x, y))\n",
        "\n",
        "print()\n",
        "\n",
        "# Elementwise square root; produces the array\n",
        "print(np.sqrt(x))"
      ],
      "execution_count": null,
      "outputs": []
    },
    {
      "cell_type": "code",
      "metadata": {
        "id": "cR6fq8Qz6WXb"
      },
      "source": [
        "x = np.array([[1,2],[3,4]])\n",
        "y = np.array([[5,6],[7,8]])\n",
        "print(x.dot(y))\n",
        "\n",
        "v = np.array([9,10])\n",
        "w = np.array([11, 13])\n",
        "print(v.dot(w))\n",
        "print(np.dot(v, w))\n",
        "print(v @ w)\n",
        "print(v.dot(x))\n",
        "\n",
        "print()\n",
        "\n",
        "print(x)\n",
        "print(\"transpose\\n\", x.T)\n",
        "\n",
        "print()\n",
        "\n",
        "v = np.array([[1,2,3]])\n",
        "print(v )\n",
        "print(\"transpose\\n\", v.T)"
      ],
      "execution_count": null,
      "outputs": []
    },
    {
      "cell_type": "code",
      "metadata": {
        "id": "fh8YTBOQ-DLz"
      },
      "source": [
        "import numpy as np\n",
        "\n",
        "a = np.array([[1,2,3], [4,5,6], [7,8,9], [10, 11, 12]])\n",
        "b = np.array([1, 0, 1])\n",
        "c = np.empty_like(a)         # Create an empty matrix with the same shape as x\n",
        "\n",
        "for i in range(4):\n",
        "  c[i, :] = a[i, :] + b\n",
        "\n",
        "print(c)"
      ],
      "execution_count": null,
      "outputs": []
    },
    {
      "cell_type": "code",
      "metadata": {
        "id": "oQ09WDjxp2Hf"
      },
      "source": [
        "b = np.array([1, 0, 1])\n",
        "bb = np.tile(b, (3, 1))\n",
        "bb1 = np.tile(b, (1, 2))\n",
        "\n",
        "print(bb)\n",
        "print(bb1)"
      ],
      "execution_count": null,
      "outputs": []
    },
    {
      "cell_type": "code",
      "metadata": {
        "id": "PQ13LdRFqdWG"
      },
      "source": [
        "v = np.array([1, 2, 3])\n",
        "w = np.array([4, 5])\n",
        "\n",
        "print(np.reshape(v, (3, 1)) * w)\n",
        "# print(np.reshape(w, (2, 1)) * v)"
      ],
      "execution_count": null,
      "outputs": []
    },
    {
      "cell_type": "code",
      "metadata": {
        "id": "LKTNp5q21zaq"
      },
      "source": [
        "x = np.array([[1,2,3], [4,5,6]])\n",
        "w = np.array([4, 5])\n",
        "\n",
        "print((x.T + w).T)\n",
        "print(x + np.reshape(w, (2, 1)))"
      ],
      "execution_count": null,
      "outputs": []
    },
    {
      "cell_type": "code",
      "metadata": {
        "id": "C5ksQum16e5c"
      },
      "source": [
        "import matplotlib.pyplot as plt"
      ],
      "execution_count": 18,
      "outputs": []
    },
    {
      "cell_type": "code",
      "metadata": {
        "id": "-jWz5lzL5FdD"
      },
      "source": [
        "# Compute the x and y coordinates for points on a sine curve\n",
        "x = np.arange(0, 3 * np.pi, 0.1)\n",
        "\n",
        "y_sin = np.sin(x)\n",
        "y_cos = np.cos(x)\n",
        "\n",
        "plt.plot(x, y_sin)\n",
        "plt.plot(x, y_cos)\n",
        "plt.xlabel('x axis label')\n",
        "plt.ylabel('y axis label')\n",
        "plt.title('Sine and Cosine')\n",
        "plt.legend(['Sine', 'Cosine'])"
      ],
      "execution_count": null,
      "outputs": []
    },
    {
      "cell_type": "code",
      "metadata": {
        "id": "teumCvQ27QM7"
      },
      "source": [
        "# Set up a subplot grid that has height 2 and width 1,\n",
        "# and set the first such subplot as active.\n",
        "plt.subplot(2, 1, 1)\n",
        "\n",
        "# Make the first plot\n",
        "plt.plot(x, y_sin)\n",
        "plt.title('Sine')\n",
        "\n",
        "# Set the second subplot as active, and make the second plot.\n",
        "plt.subplot(2, 1, 2)\n",
        "plt.plot(x, y_cos)\n",
        "plt.title('Cosine')\n",
        "\n",
        "# Show the figure.\n",
        "plt.show()"
      ],
      "execution_count": null,
      "outputs": []
    },
    {
      "cell_type": "code",
      "metadata": {
        "id": "JQuYI7FrFDYI"
      },
      "source": [
        "np.random.seed(0)  # seed for reproducibility\n",
        "\n",
        "x1 = np.random.randint(10, size=6)  # One-dimensional array\n",
        "x2 = np.random.randint(10, size=(3, 4))  # Two-dimensional array\n",
        "x3 = np.random.randint(10, size=(3, 4, 5))  # Three-dimensional array\n",
        "\n",
        "print(x1, '\\n\\n', x2, '\\n\\n', x3, '\\n\\n')\n",
        "\n",
        "print(\"x3 ndim: \", x3.ndim)\n",
        "print(\"x3 shape:\", x3.shape)\n",
        "print(\"x3 size: \", x3.size)\n",
        "print(\"dtype: \", x3.dtype)\n",
        "print(\"items size: \", x3.itemsize, \" bytes\")\n",
        "print(\"nbytes: \", x3.nbytes, \" bytes\")"
      ],
      "execution_count": null,
      "outputs": []
    },
    {
      "cell_type": "code",
      "metadata": {
        "id": "IbrriiLZOw5F"
      },
      "source": [
        "x = np.arange(10)\n",
        "# print(x)\n",
        "# x[2::2]\n",
        "\n",
        "print(x2)\n",
        "print()\n",
        "# print(x2[:3, ::2], '\\n')                  # first column and fourth column\n",
        "# print(x2[:2, :3], '\\n') \n",
        "# print(x2[:-1, :-1], '\\n') \n",
        "# print(x2[0], '\\n')                              # equivalent to x2[0, :] \n",
        "\n",
        "x2_sub = x2[:2, :2]\n",
        "print(x2_sub, '\\n')\n",
        "x2_sub[0, 0] = 99\n",
        "print(x2_sub, '\\n')\n",
        "print(x2)"
      ],
      "execution_count": null,
      "outputs": []
    },
    {
      "cell_type": "code",
      "metadata": {
        "id": "xtNncAuTi2yb"
      },
      "source": [
        "x2_sub_copy = x2[:2, :2].copy()\n",
        "print(x2_sub_copy)\n",
        "\n",
        "x2_sub_copy[0, 0] = 42\n",
        "print(x2_sub_copy)\n",
        "print(x2)"
      ],
      "execution_count": null,
      "outputs": []
    },
    {
      "cell_type": "code",
      "metadata": {
        "id": "H9kmE6TBjYoq"
      },
      "source": [
        "grid = np.arange(1, 10).reshape((3, 3))\n",
        "print(grid)"
      ],
      "execution_count": null,
      "outputs": []
    },
    {
      "cell_type": "code",
      "metadata": {
        "id": "PY_InpCIjgdt"
      },
      "source": [
        "x = np.array([1, 2, 3])\n",
        "\n",
        "x.reshape((1, 3))\n",
        "x[np.newaxis, :]\n",
        "x.reshape((3, 1))\n",
        "x[:, np.newaxis]"
      ],
      "execution_count": null,
      "outputs": []
    },
    {
      "cell_type": "code",
      "metadata": {
        "id": "6ySfueqTlhO9"
      },
      "source": [
        "# x = np.array([1, 2, 3])\n",
        "# y = np.array([3, 2, 1])\n",
        "# np.concatenate([x, y])\n",
        "\n",
        "# z = [99, 99, 99]\n",
        "# print(np.concatenate([x, y, z]))\n",
        "\n",
        "grid = np.array([[1, 2, 3], [4, 5, 6]])\n",
        "np.concatenate([grid, grid])\n",
        "np.concatenate([grid, grid], axis=1)\n",
        "\n"
      ],
      "execution_count": null,
      "outputs": []
    },
    {
      "cell_type": "code",
      "metadata": {
        "id": "U_QdlVKPmEGd"
      },
      "source": [
        "x = np.array([1, 2, 3])\n",
        "grid = np.array([[9, 8, 7], [6, 5, 4]])\n",
        "\n",
        "# np.vstack (vertical stack) and np.hstack (horizontal stack)\n",
        "np.vstack([x, grid])\n",
        "\n",
        "y = np.array([[99], [99]])\n",
        "np.hstack([grid, y])"
      ],
      "execution_count": null,
      "outputs": []
    },
    {
      "cell_type": "code",
      "metadata": {
        "id": "65NCH7qXmeti"
      },
      "source": [
        "# x = [1, 2, 3, 99, 99, 3, 2, 1]\n",
        "# x1, x2, x3 = np.split(x, [3, 5])           #3, 5 is for first array would have 3 elements and second would have 5-3\n",
        "# print(x1, x2, x3)\n",
        "\n",
        "grid = np.arange(16).reshape((4, 4))\n",
        "grid\n",
        "print()\n",
        "\n",
        "upper, lower = np.vsplit(grid, [2])\n",
        "print(upper)\n",
        "print()\n",
        "print(lower)\n",
        "print()\n",
        "\n",
        "left, right = np.hsplit(grid, [2])\n",
        "print(left)\n",
        "print()\n",
        "print(right)\n",
        "print()\n",
        "\n",
        "# np.dsplit"
      ],
      "execution_count": null,
      "outputs": []
    },
    {
      "cell_type": "code",
      "metadata": {
        "id": "fWMv6i18o7QW"
      },
      "source": [
        "# 1\n",
        "# class OOPClass:\n",
        "#   num = 132\n",
        "#   def read_number(self):\n",
        "#     print(self.num)\n",
        "\n",
        "# hit = OOPClass()\n",
        "# hit.read_number()\n",
        "\n",
        "# 2\n",
        "# class OOPClass:\n",
        "#   num = 132\n",
        "#   def __init__(self):\n",
        "#     self.num = 999\n",
        "#   def read_number(self):\n",
        "#     print(self.num)\n",
        "\n",
        "# hit = OOPClass()\n",
        "# hit.read_number()\n",
        "\n",
        "# 3\n",
        "# class OOPClass:\n",
        "#   num = 132\n",
        "#   def __init__(self, data):\n",
        "#     self.num = data\n",
        "#   def read_number(self):\n",
        "#     print(self.num)\n",
        "\n",
        "# obj2 = OOPClass(166)        \n",
        "# obj2.read_number()\n",
        "\n",
        "class Student:\n",
        "  def __init__(self):\n",
        "    self.__age = 20          # Private attribute\n",
        "  def __printhi(self):       # Works fine and  private function\n",
        "    print(\"hi\")\n",
        "  def printhello(self):\n",
        "    print(\"hello\")\n",
        "\n",
        "rs = Student()\n",
        "rs.printhello()\n",
        "# obj1.__printhi()         # Gives an error\n",
        "# obj1.__attr              # Gives an error               "
      ],
      "execution_count": null,
      "outputs": []
    },
    {
      "cell_type": "code",
      "metadata": {
        "id": "WVTJo6FfsKww"
      },
      "source": [
        "class Person:\n",
        "  def __init__(self, name, age):\n",
        "    self.name = name\n",
        "    self.__age = age\n",
        "  @property\n",
        "  def age(self):\n",
        "    print(\"Retrieving {}'s age....\".format(self.name))\n",
        "    return self.__age\n",
        "  @age.setter\n",
        "  def age(self, value):\n",
        "    if type(value) is not int:\n",
        "      print(\"Age must be a number\")\n",
        "    if value < 0:\n",
        "      print(\"Age can't be negative\")\n",
        "    else:\n",
        "      print(\"Setting {}'s to {}....\".format(self.name, value))\n",
        "      self.age = age\n",
        "\n",
        "person = Person('Prabhu', 34)\n",
        "person.age"
      ],
      "execution_count": null,
      "outputs": []
    },
    {
      "cell_type": "code",
      "metadata": {
        "cellView": "code",
        "id": "z-2hvLVNzwLp"
      },
      "source": [
        "class Car:\n",
        "  __maxspeed = 0\n",
        "  __name = \"\"\n",
        "  def __init__(self):\n",
        "    self.__maxspeed = 400\n",
        "    self.__name = \"Supercar\"\n",
        "  def drive(self):\n",
        "    print('driving.maxspeed ' + str(self.__maxspeed))\n",
        "\n",
        "redcar = Car()\n",
        "redcar.drive()\n",
        "mxspeed = 10\n",
        "redcar.__maxspeed = 10         # Will not change variable because its private\n",
        "redcar.drive()"
      ],
      "execution_count": null,
      "outputs": []
    },
    {
      "cell_type": "code",
      "metadata": {
        "id": "4tB8PzUB1okG"
      },
      "source": [
        "class Base:\n",
        "    def __init__(self):\n",
        "        self.a = \"OOP Course\"\n",
        "        self.__c = \"IIIT DWD\"\n",
        "        print(\"Calling private member of base class: \")\n",
        "        print(self.__c)\n",
        "\n",
        "obj1 = Base()\n",
        "print(obj1.a)"
      ],
      "execution_count": null,
      "outputs": []
    },
    {
      "cell_type": "code",
      "metadata": {
        "id": "QebWX0pI2hIq"
      },
      "source": [
        "class Base1:\n",
        "  def __init__(self):\n",
        "    self.a = \"OOP Course\"\n",
        "    self.__c = \"IIIT DWD\"\n",
        "\n",
        "# Creating a derived class\n",
        "class derived(Base1):\n",
        "  def __init__(self):\n",
        "    Base1.__init__(self)\n",
        "    print(\"Calling private member of base class: \")\n",
        "    print(self.__c)\n",
        "\n",
        "hit = Base1()\n",
        "print(obj1.a)"
      ],
      "execution_count": null,
      "outputs": []
    },
    {
      "cell_type": "code",
      "metadata": {
        "id": "C326oRmO6Hdf"
      },
      "source": [
        "class Student1:\n",
        "  count = 0\n",
        "  def __init__(self, num):\n",
        "    Student1.count = Student1.count + num\n",
        "\n",
        "s1=Student1(4)\n",
        "s2=Student1(5)\n",
        "s3=Student1(6)\n",
        "\n",
        "print(\"Number of students in this class: \", Student1.count)\n",
        "print(\"Number of students in this class: \", s2.count)"
      ],
      "execution_count": null,
      "outputs": []
    },
    {
      "cell_type": "code",
      "metadata": {
        "id": "Ah97Vpi06gv5"
      },
      "source": [
        "class Student2:\n",
        "  count=0\n",
        "  def __init__(self):\n",
        "    print(\"This is non parametrized constructor with no arguments or parameters\")\n",
        "\n",
        "  def shownum(self, num):\n",
        "    print(\"Number of students in OOP class: \", num*num)\n",
        "    return num\n",
        "\n",
        "s1=Student2()\n",
        "s2=Student2()\n",
        "s3=Student2()\n",
        "\n",
        "result1 = s1.shownum(5)\n",
        "result2 = s2.shownum(6)\n",
        "\n",
        "print(\"Number of students in OOP class: \", result1, result2)"
      ],
      "execution_count": null,
      "outputs": []
    },
    {
      "cell_type": "code",
      "metadata": {
        "id": "iHLNVG9w8W4X"
      },
      "source": [
        "class Student3:\n",
        "  count = 0\n",
        "  def __init__(self, stname, stage):\n",
        "    self.name = stname\n",
        "    self.age = stage\n",
        "    print(\"This is parametrized constructor with no arguments or parameters\")\n",
        "\n",
        "  def display(self, styear):\n",
        "    print(\"Student joined IIIT Dharwad: \", self.name, self.age, styear)\n",
        "    if styear <= 2020:\n",
        "      print(\"Student has completed the course\")\n",
        "    return\n",
        "\n",
        "s1=Student3(\"Ram\", 21)\n",
        "s1=Student3(\"Krishna\", 23)\n",
        "s1=Student3(\"Kumar\", 22)\n",
        "\n",
        "s1.display(2021)\n",
        "s1.display(2019)"
      ],
      "execution_count": null,
      "outputs": []
    },
    {
      "cell_type": "code",
      "metadata": {
        "id": "Kbrle8s_-k00"
      },
      "source": [
        "class Student4:\n",
        "    name = \"Ram\"\n",
        "    age =  21\n",
        "\n",
        "    def display(self,styear):\n",
        "       print(\"Student joined IIIT Dharwad   :\", self.name, self.age, styear)\n",
        "       if styear <= 2020 :\n",
        "         print (\"Student has completed the course\")\n",
        "       return \n",
        "s1=Student4()\n",
        "s2=Student4()\n",
        "s3=Student4()\n",
        "\n",
        "s1.display(2021)\n",
        "s2.display(2019)"
      ],
      "execution_count": null,
      "outputs": []
    },
    {
      "cell_type": "code",
      "metadata": {
        "id": "zRxFBp1BBDCQ"
      },
      "source": [
        "# Inheritance\n",
        "\n",
        "class Fruit:\n",
        "  pass\n",
        "\n",
        "class Grapes(Fruit):\n",
        "  pass\n",
        "\n",
        "issubclass(Grapes, Fruit)"
      ],
      "execution_count": null,
      "outputs": []
    },
    {
      "cell_type": "code",
      "metadata": {
        "id": "QSbLQxMqB7WZ"
      },
      "source": [
        "# Single Inheritance\n",
        "\n",
        "class Parent:\n",
        "  def show(self):\n",
        "    print(\"Parent method\")\n",
        "\n",
        "class Child(Parent):\n",
        "  def display(self):\n",
        "    print(\"Child method\")\n",
        "\n",
        "c = Child()\n",
        "c.display()\n",
        "c.show()"
      ],
      "execution_count": null,
      "outputs": []
    },
    {
      "cell_type": "code",
      "metadata": {
        "id": "2_IDKHfmC9f9"
      },
      "source": [
        "# Multilevel Inheritance\n",
        "\n",
        "class A:\n",
        "  def methodA(self):\n",
        "    print(\"A class\")\n",
        "\n",
        "class B(A):\n",
        "  def methodB(self):\n",
        "    print(\"B class\")\n",
        "    \n",
        "class C(B):\n",
        "  def methodC(self):\n",
        "    print(\"C class\")\n",
        "\n",
        "c = C()\n",
        "c.methodA()\n",
        "c.methodB()\n",
        "c.methodC()"
      ],
      "execution_count": null,
      "outputs": []
    },
    {
      "cell_type": "code",
      "metadata": {
        "id": "niEG9e4PEXcH"
      },
      "source": [
        "# Multiple Inheritance\n",
        "\n",
        "class D:\n",
        "  def methodD(self):\n",
        "    print(\"D class\")\n",
        "\n",
        "class E:\n",
        "  def methodE(self):\n",
        "    print(\"E class\")\n",
        "\n",
        "class F:\n",
        "  def methodF(self):\n",
        "    print(\"F class\")\n",
        "\n",
        "class G(D, E, F):\n",
        "  def methodG(self):\n",
        "    print(\"G class\")\n",
        "\n",
        "d = G()\n",
        "d.methodD()\n",
        "d.methodE()\n",
        "d.methodF()\n",
        "d.methodG()"
      ],
      "execution_count": null,
      "outputs": []
    },
    {
      "cell_type": "code",
      "metadata": {
        "id": "5e9whAlRINnX"
      },
      "source": [
        "class  Person1(object):\n",
        "  def __init__(self, name):\n",
        "    self.name = name\n",
        "\n",
        "  def getName(self):\n",
        "    return self.name\n",
        "\n",
        "  def isStudent(self):\n",
        "    return False\n",
        "\n",
        "class Student(Person1):\n",
        "  def isStudent(self):\n",
        "    return True\n",
        "\n",
        "st = Person1(\"OOP Course\")    # An object of person\n",
        "print(st.getName(), st.isStudent())\n",
        "\n",
        "st = Student(\"CSE COurse\") # An Object of Student\n",
        "print(st.getName(), st.isStudent())"
      ],
      "execution_count": null,
      "outputs": []
    },
    {
      "cell_type": "code",
      "metadata": {
        "id": "4dwxVwWzKG09"
      },
      "source": [
        "# Hierchial Inheritance\n",
        "\n",
        "class A:\n",
        "  def methodA(self):\n",
        "    print(\"A class\")\n",
        "  \n",
        "class B(A):\n",
        "  def methodB(self):\n",
        "    print(\"B class\")\n",
        "\n",
        "class C(A):\n",
        "  def methodC(self):\n",
        "    print(\"C class\")\n",
        "\n",
        "b = B()\n",
        "c = C()\n",
        "b.methodA()\n",
        "c.methodA()        "
      ],
      "execution_count": null,
      "outputs": []
    },
    {
      "cell_type": "code",
      "metadata": {
        "id": "AViu5sKqK8-h"
      },
      "source": [
        "# Hierchial Class\n",
        "\n",
        "class A:\n",
        "  def methodA(self):\n",
        "    print(\"A class\")\n",
        "\n",
        "class B(A):\n",
        "  def methodB(self):\n",
        "    print(\"B class\")\n",
        "\n",
        "class C(A):\n",
        "  def methodC(self):\n",
        "    print(\"C class\")\n",
        "\n",
        "class D(B, C):\n",
        "  def methodD(self):\n",
        "    print(\"D class\")\n",
        "\n",
        "d = D()\n",
        "d.methodA()"
      ],
      "execution_count": null,
      "outputs": []
    },
    {
      "cell_type": "code",
      "metadata": {
        "id": "6A517ZFpMpJD"
      },
      "source": [
        "# super() method\n",
        "\n",
        "class A:\n",
        "  x = 100\n",
        "  def methodA(self):\n",
        "    print(\"A class\")\n",
        "\n",
        "class B(A):\n",
        "  def methodB(self):\n",
        "    super().methodA()\n",
        "    print(\"B class\")\n",
        "    print(super().x)\n",
        "\n",
        "b = B()\n",
        "b.methodB()"
      ],
      "execution_count": null,
      "outputs": []
    },
    {
      "cell_type": "code",
      "metadata": {
        "id": "kMyk1oNPN6Lc"
      },
      "source": [
        "class Person(object):\n",
        "  def __init__(self, name, id):\n",
        "    self.name = name\n",
        "    self.id = id\n",
        "  \n",
        "  def display(self):\n",
        "    print(self.name)\n",
        "    print(self.id)\n",
        "\n",
        "class Student(Person):\n",
        "  def __init__(self, name, id, deptid, state):\n",
        "    self.deptid = deptid\n",
        "    self.state = state\n",
        "\n",
        "    Person.__init__(self, name, id)\n",
        "\n",
        "st = Student('Ram',\"2020BCS001\", \"ECE100\", \"KA\")  \n",
        "st.display()"
      ],
      "execution_count": null,
      "outputs": []
    },
    {
      "cell_type": "code",
      "metadata": {
        "id": "5pZqe8pmPh-m"
      },
      "source": [
        "class A(object):\n",
        "  def __init__(self, n):\n",
        "    self.name = n \n",
        "\n",
        "class B(A):\n",
        "  def __init__(self, roll, n):\n",
        "    self.roll = roll\n",
        "\n",
        "    A.__init__(self, n)\n",
        "\n",
        "course = B(\"OOP Course\", 200)\n",
        "print(course.name)\n",
        "print(course.roll)"
      ],
      "execution_count": null,
      "outputs": []
    },
    {
      "cell_type": "code",
      "metadata": {
        "id": "ahypz2YQQhsi"
      },
      "source": [
        "class Polygon:\n",
        "  def __init__(self, no_of_sides):\n",
        "    self.n = no_of_sides\n",
        "    self.sides = [0 for i in range(no_of_sides)]\n",
        "\n",
        "  def inputSides(self):\n",
        "    self.sides = [float(input(\"Enter side \" + str(i+1) + \" : \")) for i in range(self.n)]\n",
        "  \n",
        "  def dispSides(self):\n",
        "    for i in range(self.n):\n",
        "      print(\"Side \", i+1, \" is \", self.sides[i])\n",
        "\n",
        "class Triangle(Polygon):\n",
        "  def __init__(self):\n",
        "    Polygon.__init__(self, 3)\n",
        "  \n",
        "  def findArea(self):\n",
        "    a, b, c = self.sides\n",
        "    s = (a + b + c)/2\n",
        "    area = (s * (s-a) * (s-b) * (s-c)) ** 0.5\n",
        "    print(\"The area of the triangle is %0.2f\" %area)\n",
        "\n",
        "t = Triangle()\n",
        "t.inputSides()\n",
        "t.dispSides()\n",
        "t.findArea()"
      ],
      "execution_count": null,
      "outputs": []
    }
  ]
}